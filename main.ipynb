{
 "cells": [
  {
   "metadata": {
    "ExecuteTime": {
     "end_time": "2025-03-13T21:49:47.491723Z",
     "start_time": "2025-03-13T21:49:47.488451Z"
    }
   },
   "cell_type": "code",
   "source": [
    "# IMPORT\n",
    "import pandas as pd"
   ],
   "id": "315c6bf62b18375",
   "outputs": [],
   "execution_count": 48
  },
  {
   "metadata": {
    "ExecuteTime": {
     "end_time": "2025-03-13T21:49:47.516290Z",
     "start_time": "2025-03-13T21:49:47.513208Z"
    }
   },
   "cell_type": "code",
   "source": [
    "# FUNC\n",
    "def move_columns_to_index(df, start_column, end_column, index_column):\n",
    "    # Create a copy of the DataFrame to avoid modifying the original\n",
    "    df_copy = df.copy()\n",
    "\n",
    "    # Get a list of all column names\n",
    "    cols = df_copy.columns.tolist()\n",
    "\n",
    "    # Select columns to move (ensure last column is included)\n",
    "    cols_to_move = cols[start_column:(end_column + 1)]\n",
    "\n",
    "    # Remove them from the original order\n",
    "    remaining_cols = [col for col in cols if col not in cols_to_move]\n",
    "\n",
    "    # Insert them at the desired index\n",
    "    new_col_order = remaining_cols[:index_column] + cols_to_move + remaining_cols[index_column:]\n",
    "\n",
    "    # Reorder the DataFrame using the new column order\n",
    "    return df_copy[new_col_order]\n"
   ],
   "id": "82dc5f32a5215814",
   "outputs": [],
   "execution_count": 49
  },
  {
   "cell_type": "code",
   "id": "initial_id",
   "metadata": {
    "collapsed": true,
    "ExecuteTime": {
     "end_time": "2025-03-13T21:49:47.528017Z",
     "start_time": "2025-03-13T21:49:47.519659Z"
    }
   },
   "source": [
    "# FETCH & FILTER\n",
    "data = pd.read_csv('/Users/nainajnaho/Downloads/Volontärsanmälan Forsränningen 2025 .csv').iloc[3:]\n",
    "data = df = data.drop(data.columns[0], axis=1)"
   ],
   "outputs": [],
   "execution_count": 50
  },
  {
   "metadata": {
    "ExecuteTime": {
     "end_time": "2025-03-13T21:49:47.553950Z",
     "start_time": "2025-03-13T21:49:47.550894Z"
    }
   },
   "cell_type": "code",
   "source": [
    "# AKT\n",
    "move_columns_to_index(data, 17, 24, 2);"
   ],
   "id": "b046f688c98c34d7",
   "outputs": [],
   "execution_count": 52
  },
  {
   "metadata": {
    "ExecuteTime": {
     "end_time": "2025-03-13T21:49:47.566489Z",
     "start_time": "2025-03-13T21:49:47.563081Z"
    }
   },
   "cell_type": "code",
   "source": [
    "# PRYL\n",
    "move_columns_to_index(data, 25, 32, 2);"
   ],
   "id": "852fc1e6b67a0919",
   "outputs": [],
   "execution_count": 53
  },
  {
   "metadata": {
    "ExecuteTime": {
     "end_time": "2025-03-13T21:49:47.578410Z",
     "start_time": "2025-03-13T21:49:47.575490Z"
    }
   },
   "cell_type": "code",
   "source": [
    "# KÖKSCHEF\n",
    "move_columns_to_index(data, 33, 41, 2);"
   ],
   "id": "8fbbefe9839e8230",
   "outputs": [],
   "execution_count": 54
  },
  {
   "metadata": {
    "ExecuteTime": {
     "end_time": "2025-03-13T21:49:47.591249Z",
     "start_time": "2025-03-13T21:49:47.587846Z"
    }
   },
   "cell_type": "code",
   "source": [
    "# PUB\n",
    "move_columns_to_index(data, 42, 49, 2);"
   ],
   "id": "88d30ffa6ecb684a",
   "outputs": [],
   "execution_count": 55
  },
  {
   "metadata": {
    "ExecuteTime": {
     "end_time": "2025-03-13T21:49:47.603643Z",
     "start_time": "2025-03-13T21:49:47.600831Z"
    }
   },
   "cell_type": "code",
   "source": [
    "# PUB\n",
    "move_columns_to_index(data, 50, 58, 2);"
   ],
   "id": "5f24998ca55d5b76",
   "outputs": [],
   "execution_count": 56
  },
  {
   "metadata": {
    "ExecuteTime": {
     "end_time": "2025-03-13T21:49:47.616050Z",
     "start_time": "2025-03-13T21:49:47.613111Z"
    }
   },
   "cell_type": "code",
   "source": [
    "# BARCHEF\n",
    "move_columns_to_index(data, 60, 68, 2);"
   ],
   "id": "32d315ea6bd22763",
   "outputs": [],
   "execution_count": 57
  },
  {
   "metadata": {
    "ExecuteTime": {
     "end_time": "2025-03-13T21:49:47.627953Z",
     "start_time": "2025-03-13T21:49:47.625189Z"
    }
   },
   "cell_type": "code",
   "source": [
    "# TAPP\n",
    "move_columns_to_index(data, 69, 76, 2);"
   ],
   "id": "266be28923517d94",
   "outputs": [],
   "execution_count": 58
  }
 ],
 "metadata": {
  "kernelspec": {
   "display_name": "Python 3",
   "language": "python",
   "name": "python3"
  },
  "language_info": {
   "codemirror_mode": {
    "name": "ipython",
    "version": 2
   },
   "file_extension": ".py",
   "mimetype": "text/x-python",
   "name": "python",
   "nbconvert_exporter": "python",
   "pygments_lexer": "ipython2",
   "version": "2.7.6"
  }
 },
 "nbformat": 4,
 "nbformat_minor": 5
}
