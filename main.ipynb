{
 "cells": [
  {
   "metadata": {
    "ExecuteTime": {
     "end_time": "2025-03-14T12:48:57.792886Z",
     "start_time": "2025-03-14T12:48:57.527595Z"
    }
   },
   "cell_type": "code",
   "source": [
    "# IMPORT\n",
    "import pandas as pd"
   ],
   "id": "315c6bf62b18375",
   "outputs": [],
   "execution_count": 3
  },
  {
   "metadata": {
    "ExecuteTime": {
     "end_time": "2025-03-14T12:48:57.800080Z",
     "start_time": "2025-03-14T12:48:57.796768Z"
    }
   },
   "cell_type": "code",
   "source": [
    "# FUNC\n",
    "def move_columns_to_index(df, start_column, end_column, index_column):\n",
    "    # Create a copy of the DataFrame to avoid modifying the original\n",
    "    df_copy = df.copy()\n",
    "\n",
    "    # Get a list of all column names\n",
    "    cols = df_copy.columns.tolist()\n",
    "\n",
    "    # Select columns to move (ensure last column is included)\n",
    "    cols_to_move = cols[(start_column - 1):(end_column + 1)]\n",
    "\n",
    "    # Remove them from the original order\n",
    "    remaining_cols = [col for col in cols if col not in cols_to_move]\n",
    "\n",
    "    # Insert them at the desired index\n",
    "    new_col_order = remaining_cols[:index_column] + cols_to_move + remaining_cols[index_column:]\n",
    "\n",
    "    # Reorder the DataFrame using the new column order\n",
    "    return df_copy[new_col_order]\n",
    "\n",
    "\n",
    "def filter_rows_by_column_range(df, start_column, end_column):\n",
    "    return df[df.iloc[:, start_column:end_column].notna().any(axis=1)].copy()\n",
    "\n"
   ],
   "id": "82dc5f32a5215814",
   "outputs": [],
   "execution_count": 4
  },
  {
   "cell_type": "code",
   "id": "initial_id",
   "metadata": {
    "collapsed": true,
    "ExecuteTime": {
     "end_time": "2025-03-14T12:48:57.817436Z",
     "start_time": "2025-03-14T12:48:57.806083Z"
    }
   },
   "source": [
    "# FETCH & FILTER\n",
    "dataa = pd.read_csv('/Users/nainajnaho/Downloads/Volontärsanmälan Forsränningen 2025 .csv').iloc[3:]\n",
    "data = df = dataa.drop(dataa.columns[0], axis=1)"
   ],
   "outputs": [],
   "execution_count": 5
  },
  {
   "metadata": {
    "ExecuteTime": {
     "end_time": "2025-03-14T12:48:57.839214Z",
     "start_time": "2025-03-14T12:48:57.832997Z"
    }
   },
   "cell_type": "code",
   "source": [
    "# AKT\n",
    "akt = filter_rows_by_column_range(data, 17, 24)\n",
    "move_columns_to_index(akt, 17, 24, 2).to_csv(\"AKT.csv\", index=False)"
   ],
   "id": "b046f688c98c34d7",
   "outputs": [],
   "execution_count": 6
  },
  {
   "metadata": {
    "ExecuteTime": {
     "end_time": "2025-03-14T12:48:57.857759Z",
     "start_time": "2025-03-14T12:48:57.852986Z"
    }
   },
   "cell_type": "code",
   "source": [
    "# PRYL\n",
    "pryl = filter_rows_by_column_range(data, 25, 32)\n",
    "move_columns_to_index(pryl, 25, 32, 2).to_csv(\"PRYL.csv\", index=False)"
   ],
   "id": "852fc1e6b67a0919",
   "outputs": [],
   "execution_count": 7
  },
  {
   "metadata": {
    "ExecuteTime": {
     "end_time": "2025-03-14T12:48:57.877914Z",
     "start_time": "2025-03-14T12:48:57.873445Z"
    }
   },
   "cell_type": "code",
   "source": [
    "# KÖKSCHEF\n",
    "kokchef = filter_rows_by_column_range(data, 33, 41)\n",
    "move_columns_to_index(kokchef, 33, 41, 2).to_csv(\"KÖKSCHEF.csv\", index=False)"
   ],
   "id": "8fbbefe9839e8230",
   "outputs": [],
   "execution_count": 8
  },
  {
   "metadata": {
    "ExecuteTime": {
     "end_time": "2025-03-14T12:48:57.900617Z",
     "start_time": "2025-03-14T12:48:57.896043Z"
    }
   },
   "cell_type": "code",
   "source": [
    "# PUB\n",
    "pub = filter_rows_by_column_range(data, 42, 49)\n",
    "move_columns_to_index(pub, 42, 49, 2).to_csv(\"PUB.csv\", index=False)"
   ],
   "id": "88d30ffa6ecb684a",
   "outputs": [],
   "execution_count": 9
  },
  {
   "metadata": {
    "ExecuteTime": {
     "end_time": "2025-03-14T12:48:57.924377Z",
     "start_time": "2025-03-14T12:48:57.919421Z"
    }
   },
   "cell_type": "code",
   "source": [
    "# MEDIA\n",
    "media = filter_rows_by_column_range(data, 50, 58)\n",
    "move_columns_to_index(media, 50, 58, 2).to_csv(\"MEDIA.csv\", index=False)"
   ],
   "id": "5f24998ca55d5b76",
   "outputs": [],
   "execution_count": 10
  },
  {
   "metadata": {
    "ExecuteTime": {
     "end_time": "2025-03-14T12:48:57.970280Z",
     "start_time": "2025-03-14T12:48:57.965990Z"
    }
   },
   "cell_type": "code",
   "source": [
    "# BARCHEF\n",
    "barchef = filter_rows_by_column_range(data, 60, 68)\n",
    "move_columns_to_index(barchef, 60, 68, 2).to_csv(\"BARCHEF.csv\", index=False)"
   ],
   "id": "32d315ea6bd22763",
   "outputs": [],
   "execution_count": 11
  },
  {
   "metadata": {
    "ExecuteTime": {
     "end_time": "2025-03-14T12:48:57.978863Z",
     "start_time": "2025-03-14T12:48:57.973622Z"
    }
   },
   "cell_type": "code",
   "source": [
    "# TAPP\n",
    "tapp = filter_rows_by_column_range(data, 69, 76)\n",
    "move_columns_to_index(tapp, 69, 76, 2).to_csv(\"TAPP.csv\", index=False)"
   ],
   "id": "266be28923517d94",
   "outputs": [],
   "execution_count": 12
  }
 ],
 "metadata": {
  "kernelspec": {
   "display_name": "Python 3",
   "language": "python",
   "name": "python3"
  },
  "language_info": {
   "codemirror_mode": {
    "name": "ipython",
    "version": 2
   },
   "file_extension": ".py",
   "mimetype": "text/x-python",
   "name": "python",
   "nbconvert_exporter": "python",
   "pygments_lexer": "ipython2",
   "version": "2.7.6"
  }
 },
 "nbformat": 4,
 "nbformat_minor": 5
}
