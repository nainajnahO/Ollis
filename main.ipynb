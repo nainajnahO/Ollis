{
 "cells": [
  {
   "metadata": {
    "ExecuteTime": {
     "end_time": "2025-03-20T12:15:04.184943Z",
     "start_time": "2025-03-20T12:15:04.181625Z"
    }
   },
   "cell_type": "code",
   "source": [
    "# IMPORT\n",
    "import pandas as pd"
   ],
   "id": "315c6bf62b18375",
   "outputs": [],
   "execution_count": 17
  },
  {
   "metadata": {
    "ExecuteTime": {
     "end_time": "2025-03-20T12:15:04.195451Z",
     "start_time": "2025-03-20T12:15:04.190458Z"
    }
   },
   "cell_type": "code",
   "source": [
    "# FUNC\n",
    "def move_columns_to_index(df, start_column, end_column, index_column):\n",
    "    # Create a copy of the DataFrame to avoid modifying the original\n",
    "    df_copy = df.copy()\n",
    "\n",
    "    # Get a list of all column names\n",
    "    cols = df_copy.columns.tolist()\n",
    "\n",
    "    # Select columns to move (ensure last column is included)\n",
    "    cols_to_move = cols[(start_column - 1):(end_column + 1)]\n",
    "\n",
    "    # Remove them from the original order\n",
    "    remaining_cols = [col for col in cols if col not in cols_to_move]\n",
    "\n",
    "    # Insert them at the desired index\n",
    "    new_col_order = remaining_cols[:index_column] + cols_to_move + remaining_cols[index_column:]\n",
    "\n",
    "    # Reorder the DataFrame using the new column order\n",
    "    return df_copy[new_col_order]\n",
    "\n",
    "\n",
    "def filter_rows_by_column_range(df, start_column, end_column):\n",
    "    return df[df.iloc[:, start_column:end_column].notna().any(axis=1)].copy()\n",
    "\n"
   ],
   "id": "82dc5f32a5215814",
   "outputs": [],
   "execution_count": 18
  },
  {
   "cell_type": "code",
   "id": "initial_id",
   "metadata": {
    "collapsed": true,
    "ExecuteTime": {
     "end_time": "2025-03-20T12:15:04.248291Z",
     "start_time": "2025-03-20T12:15:04.240902Z"
    }
   },
   "source": [
    "# FETCH & FILTER\n",
    "dataa = pd.read_csv('/Users/nainajnaho/Downloads/Volontärsanmälan Forsränningen 2025 .csv').iloc[3:]\n",
    "data = df = dataa.drop(dataa.columns[0], axis=1)"
   ],
   "outputs": [],
   "execution_count": 19
  },
  {
   "metadata": {
    "ExecuteTime": {
     "end_time": "2025-03-20T12:15:04.291212Z",
     "start_time": "2025-03-20T12:15:04.285957Z"
    }
   },
   "cell_type": "code",
   "source": [
    "# AKT FILTER\n",
    "akt = filter_rows_by_column_range(data, 17, 24)\n",
    "\n",
    "# FLYTTA FRAM DATUM\n",
    "akt_a = move_columns_to_index(akt, 17, 24, 2)\n",
    "\n",
    "# FLYTTA FRAM NAMNÖNSKNINGAR\n",
    "move_columns_to_index(akt_a, 80, 79, 2).to_csv(\"AKT.csv\", index=False)\n"
   ],
   "id": "b046f688c98c34d7",
   "outputs": [],
   "execution_count": 20
  },
  {
   "metadata": {
    "ExecuteTime": {
     "end_time": "2025-03-20T12:15:04.333317Z",
     "start_time": "2025-03-20T12:15:04.328444Z"
    }
   },
   "cell_type": "code",
   "source": [
    "# PRYL FILTER\n",
    "pryl = filter_rows_by_column_range(data, 25, 32)\n",
    "\n",
    "# FLYTTA FRAM DATUM\n",
    "pryl_a = move_columns_to_index(pryl, 25, 32, 2)\n",
    "\n",
    "# FLYTTA FRAM NAMNÖNSKNINGAR\n",
    "move_columns_to_index(pryl_a, 80, 79, 2).to_csv(\"PRYL.csv\", index=False)"
   ],
   "id": "852fc1e6b67a0919",
   "outputs": [],
   "execution_count": 21
  },
  {
   "metadata": {
    "ExecuteTime": {
     "end_time": "2025-03-20T12:15:04.413177Z",
     "start_time": "2025-03-20T12:15:04.408763Z"
    }
   },
   "cell_type": "code",
   "source": [
    "# KÖKSCHEF FILTER\n",
    "kokchef = filter_rows_by_column_range(data, 33, 41)\n",
    "\n",
    "# FLYTTA FRAM DATUM\n",
    "kokchef_a = move_columns_to_index(kokchef, 33, 41, 2)\n",
    "\n",
    "# FLYTTA FRAM NAMNÖNSKNINGAR\n",
    "move_columns_to_index(kokchef_a, 80, 79, 2).to_csv(\"KOK.csv\", index=False)"
   ],
   "id": "8fbbefe9839e8230",
   "outputs": [],
   "execution_count": 22
  },
  {
   "metadata": {
    "ExecuteTime": {
     "end_time": "2025-03-20T12:15:04.423395Z",
     "start_time": "2025-03-20T12:15:04.418619Z"
    }
   },
   "cell_type": "code",
   "source": [
    "# PUB FILTER\n",
    "pub = filter_rows_by_column_range(data, 42, 49)\n",
    "\n",
    "# FLYTTA FRAM DATUM\n",
    "pub_a = move_columns_to_index(pub, 42, 49, 2)\n",
    "\n",
    "# FLYTTA FRAM NAMNÖNSKNINGAR\n",
    "move_columns_to_index(pub_a, 80, 79, 2).to_csv(\"PUB.csv\", index=False)"
   ],
   "id": "88d30ffa6ecb684a",
   "outputs": [],
   "execution_count": 23
  },
  {
   "metadata": {
    "ExecuteTime": {
     "end_time": "2025-03-20T12:15:04.469172Z",
     "start_time": "2025-03-20T12:15:04.464274Z"
    }
   },
   "cell_type": "code",
   "source": [
    "# MEDIA FILTER\n",
    "media = filter_rows_by_column_range(data, 50, 58)\n",
    "\n",
    "# FLYTTA FRAM DATUM\n",
    "media_a = move_columns_to_index(media, 50, 58, 2)\n",
    "\n",
    "# FLYTTA FRAM NAMNÖNSKNINGAR\n",
    "move_columns_to_index(media_a, 80, 79, 2).to_csv(\"MEDIA.csv\", index=False)"
   ],
   "id": "5f24998ca55d5b76",
   "outputs": [],
   "execution_count": 24
  },
  {
   "metadata": {
    "ExecuteTime": {
     "end_time": "2025-03-20T12:15:04.517188Z",
     "start_time": "2025-03-20T12:15:04.512343Z"
    }
   },
   "cell_type": "code",
   "source": [
    "# BARCHEF FILTER\n",
    "barchef = filter_rows_by_column_range(data, 60, 68)\n",
    "\n",
    "# FLYTTA FRAM DATUM\n",
    "barchef_a = move_columns_to_index(barchef, 60, 68, 2)\n",
    "\n",
    "# FLYTTA FRAM NAMNÖNSKNINGAR\n",
    "move_columns_to_index(barchef_a, 80, 79, 2).to_csv(\"BARCHEF.csv\", index=False)"
   ],
   "id": "32d315ea6bd22763",
   "outputs": [],
   "execution_count": 25
  },
  {
   "metadata": {
    "ExecuteTime": {
     "end_time": "2025-03-20T12:15:04.610345Z",
     "start_time": "2025-03-20T12:15:04.604346Z"
    }
   },
   "cell_type": "code",
   "source": [
    "# TAPP FILTER\n",
    "tapp = filter_rows_by_column_range(data, 69, 76)\n",
    "\n",
    "# FLYTTA FRAM DATUM\n",
    "tapp_a = move_columns_to_index(tapp, 69, 76, 2)\n",
    "\n",
    "# FLYTTA FRAM NAMNÖNSKNINGAR\n",
    "move_columns_to_index(tapp_a, 80, 79, 2).to_csv(\"TAPP.csv\", index=False)"
   ],
   "id": "266be28923517d94",
   "outputs": [],
   "execution_count": 26
  }
 ],
 "metadata": {
  "kernelspec": {
   "display_name": "Python 3",
   "language": "python",
   "name": "python3"
  },
  "language_info": {
   "codemirror_mode": {
    "name": "ipython",
    "version": 2
   },
   "file_extension": ".py",
   "mimetype": "text/x-python",
   "name": "python",
   "nbconvert_exporter": "python",
   "pygments_lexer": "ipython2",
   "version": "2.7.6"
  }
 },
 "nbformat": 4,
 "nbformat_minor": 5
}
