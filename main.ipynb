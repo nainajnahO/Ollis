{
 "cells": [
  {
   "metadata": {
    "ExecuteTime": {
     "end_time": "2025-03-13T22:04:55.259924Z",
     "start_time": "2025-03-13T22:04:55.255354Z"
    }
   },
   "cell_type": "code",
   "source": [
    "# IMPORT\n",
    "import pandas as pd"
   ],
   "id": "315c6bf62b18375",
   "outputs": [],
   "execution_count": 59
  },
  {
   "metadata": {
    "ExecuteTime": {
     "end_time": "2025-03-13T22:04:55.267966Z",
     "start_time": "2025-03-13T22:04:55.264486Z"
    }
   },
   "cell_type": "code",
   "source": [
    "# FUNC\n",
    "def move_columns_to_index(df, start_column, end_column, index_column):\n",
    "    # Create a copy of the DataFrame to avoid modifying the original\n",
    "    df_copy = df.copy()\n",
    "\n",
    "    # Get a list of all column names\n",
    "    cols = df_copy.columns.tolist()\n",
    "\n",
    "    # Select columns to move (ensure last column is included)\n",
    "    cols_to_move = cols[start_column:(end_column + 1)]\n",
    "\n",
    "    # Remove them from the original order\n",
    "    remaining_cols = [col for col in cols if col not in cols_to_move]\n",
    "\n",
    "    # Insert them at the desired index\n",
    "    new_col_order = remaining_cols[:index_column] + cols_to_move + remaining_cols[index_column:]\n",
    "\n",
    "    # Reorder the DataFrame using the new column order\n",
    "    return df_copy[new_col_order]\n"
   ],
   "id": "82dc5f32a5215814",
   "outputs": [],
   "execution_count": 60
  },
  {
   "cell_type": "code",
   "id": "initial_id",
   "metadata": {
    "collapsed": true,
    "ExecuteTime": {
     "end_time": "2025-03-13T22:04:55.291705Z",
     "start_time": "2025-03-13T22:04:55.282424Z"
    }
   },
   "source": [
    "# FETCH & FILTER\n",
    "data = pd.read_csv('/Users/nainajnaho/Downloads/Volontärsanmälan Forsränningen 2025 .csv').iloc[3:]\n",
    "data = df = data.drop(data.columns[0], axis=1)"
   ],
   "outputs": [],
   "execution_count": 61
  },
  {
   "metadata": {
    "ExecuteTime": {
     "end_time": "2025-03-13T22:04:55.309105Z",
     "start_time": "2025-03-13T22:04:55.301413Z"
    }
   },
   "cell_type": "code",
   "source": [
    "# AKT\n",
    "move_columns_to_index(data, 17, 24, 2).to_csv(\"AKT.csv\", index=False)"
   ],
   "id": "b046f688c98c34d7",
   "outputs": [],
   "execution_count": 62
  },
  {
   "metadata": {
    "ExecuteTime": {
     "end_time": "2025-03-13T22:04:55.325208Z",
     "start_time": "2025-03-13T22:04:55.318081Z"
    }
   },
   "cell_type": "code",
   "source": [
    "# PRYL\n",
    "move_columns_to_index(data, 25, 32, 2).to_csv(\"PRYL.csv\", index=False)"
   ],
   "id": "852fc1e6b67a0919",
   "outputs": [],
   "execution_count": 63
  },
  {
   "metadata": {
    "ExecuteTime": {
     "end_time": "2025-03-13T22:04:55.341615Z",
     "start_time": "2025-03-13T22:04:55.334261Z"
    }
   },
   "cell_type": "code",
   "source": [
    "# KÖKSCHEF\n",
    "move_columns_to_index(data, 33, 41, 2).to_csv(\"KÖKSCHEF.csv\", index=False)"
   ],
   "id": "8fbbefe9839e8230",
   "outputs": [],
   "execution_count": 64
  },
  {
   "metadata": {
    "ExecuteTime": {
     "end_time": "2025-03-13T22:04:55.357369Z",
     "start_time": "2025-03-13T22:04:55.350517Z"
    }
   },
   "cell_type": "code",
   "source": [
    "# PUB\n",
    "move_columns_to_index(data, 42, 49, 2).to_csv(\"PUB.csv\", index=False)"
   ],
   "id": "88d30ffa6ecb684a",
   "outputs": [],
   "execution_count": 65
  },
  {
   "metadata": {
    "ExecuteTime": {
     "end_time": "2025-03-13T22:04:55.372757Z",
     "start_time": "2025-03-13T22:04:55.365917Z"
    }
   },
   "cell_type": "code",
   "source": [
    "# MEDIA\n",
    "move_columns_to_index(data, 50, 58, 2).to_csv(\"MEDIA.csv\", index=False)"
   ],
   "id": "5f24998ca55d5b76",
   "outputs": [],
   "execution_count": 66
  },
  {
   "metadata": {
    "ExecuteTime": {
     "end_time": "2025-03-13T22:04:55.387943Z",
     "start_time": "2025-03-13T22:04:55.380987Z"
    }
   },
   "cell_type": "code",
   "source": [
    "# BARCHEF\n",
    "move_columns_to_index(data, 60, 68, 2).to_csv(\"BARCHEF.csv\", index=False)"
   ],
   "id": "32d315ea6bd22763",
   "outputs": [],
   "execution_count": 67
  },
  {
   "metadata": {
    "ExecuteTime": {
     "end_time": "2025-03-13T22:04:55.403569Z",
     "start_time": "2025-03-13T22:04:55.396828Z"
    }
   },
   "cell_type": "code",
   "source": [
    "# TAPP\n",
    "move_columns_to_index(data, 69, 76, 2).to_csv(\"TAPP.csv\", index=False)"
   ],
   "id": "266be28923517d94",
   "outputs": [],
   "execution_count": 68
  }
 ],
 "metadata": {
  "kernelspec": {
   "display_name": "Python 3",
   "language": "python",
   "name": "python3"
  },
  "language_info": {
   "codemirror_mode": {
    "name": "ipython",
    "version": 2
   },
   "file_extension": ".py",
   "mimetype": "text/x-python",
   "name": "python",
   "nbconvert_exporter": "python",
   "pygments_lexer": "ipython2",
   "version": "2.7.6"
  }
 },
 "nbformat": 4,
 "nbformat_minor": 5
}
